{
  "nbformat": 4,
  "nbformat_minor": 0,
  "metadata": {
    "colab": {
      "name": "Untitled2.ipynb",
      "provenance": [],
      "authorship_tag": "ABX9TyNoM7cK39JVMADojYa7JtVl",
      "include_colab_link": true
    },
    "kernelspec": {
      "name": "python3",
      "display_name": "Python 3"
    }
  },
  "cells": [
    {
      "cell_type": "markdown",
      "metadata": {
        "id": "view-in-github",
        "colab_type": "text"
      },
      "source": [
        "<a href=\"https://colab.research.google.com/github/ArtDaryl/Numerical-Method/blob/main/58015_Buenaventura%2C%20Art%20Daryl_Linear%20Algebra%20Review.ipynb\" target=\"_parent\"><img src=\"https://colab.research.google.com/assets/colab-badge.svg\" alt=\"Open In Colab\"/></a>"
      ]
    },
    {
      "cell_type": "markdown",
      "metadata": {
        "id": "yAsCFH_-VZqR"
      },
      "source": [
        "#Welcome to Linear Algebra Review\r\n",
        "by Art Daryl Buenaventura © 2021\r\n",
        "\r\n",
        "In this activity, the vector and its scalars where given to complete the program.\r\n",
        "\r\n",
        "We need to find the magnitude of the Euclidian distance or the Euclidean Norm with the given matrix.\r\n",
        "\r\n",
        "\r\n"
      ]
    },
    {
      "cell_type": "markdown",
      "metadata": {
        "id": "xtOT1kz2XrMV"
      },
      "source": [
        "#Activity"
      ]
    },
    {
      "cell_type": "markdown",
      "metadata": {
        "id": "PjJ-kWwEYxLj"
      },
      "source": [
        "The corresponding code below is the one used to perform the task given.\r\n",
        "\r\n",
        "Numpy is used to in Python programming language when you are going to use matrices and arrays, without it the program will not function properly and it is the one that operates the arrays. \r\n",
        "\r\n",
        "Linalg is use to compute problems that contains some matrices and arrays.\r\n",
        "\r\n",
        "Linspace is a Pytho tool to create a numeric sequence in the program.\r\n"
      ]
    },
    {
      "cell_type": "code",
      "metadata": {
        "colab": {
          "base_uri": "https://localhost:8080/",
          "height": 0
        },
        "id": "5zvUTjM9K-py",
        "outputId": "4f0452ae-5691-47a1-ca00-8c05594b5d6e"
      },
      "source": [
        "!pip install numpy\r\n",
        "import matplotlib.pyplot as plt\r\n",
        "import numpy as np\r\n",
        "import math"
      ],
      "execution_count": 29,
      "outputs": [
        {
          "output_type": "stream",
          "text": [
            "Requirement already satisfied: numpy in /usr/local/lib/python3.7/dist-packages (1.19.5)\n"
          ],
          "name": "stdout"
        }
      ]
    },
    {
      "cell_type": "code",
      "metadata": {
        "colab": {
          "base_uri": "https://localhost:8080/",
          "height": 0
        },
        "id": "lMX95EngLp8y",
        "outputId": "c9bc894c-ecd6-4f76-8166-bdfe55e3647b"
      },
      "source": [
        "num = np.array([2,5,-1,0])\r\n",
        "print(\"Given arrays:\")\r\n",
        "print(num)\r\n",
        "print(\"The Euclidean Norm is: \")\r\n",
        "print(np.linalg.norm(num))"
      ],
      "execution_count": 30,
      "outputs": [
        {
          "output_type": "stream",
          "text": [
            "Given arrays:\n",
            "[ 2  5 -1  0]\n",
            "The Euclidean Norm is: \n",
            "5.477225575051661\n"
          ],
          "name": "stdout"
        }
      ]
    },
    {
      "cell_type": "code",
      "metadata": {
        "colab": {
          "base_uri": "https://localhost:8080/",
          "height": 265
        },
        "id": "uw1TNtr6b-wc",
        "outputId": "f21a736a-4476-405d-a8af-f326cccc13ca"
      },
      "source": [
        "x = np.linspace (-6,6,12)\r\n",
        "y = (1/(1 + np.exp(-x)))\r\n",
        "plt.plot(x,y)\r\n",
        "plt.show()"
      ],
      "execution_count": 36,
      "outputs": [
        {
          "output_type": "display_data",
          "data": {
            "image/png": "[encoded data removed]",
            "text/plain": [
              "<Figure size 432x288 with 1 Axes>"
            ]
          },
          "metadata": {
            "tags": [],
            "needs_background": "light"
          }
        }
      ]
    }
  ]
}