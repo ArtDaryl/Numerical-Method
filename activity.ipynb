{
  "nbformat": 4,
  "nbformat_minor": 0,
  "metadata": {
    "colab": {
      "name": "Untitled1.ipynb",
      "provenance": []
    },
    "kernelspec": {
      "name": "python3",
      "display_name": "Python 3"
    }
  },
  "cells": [
    {
      "cell_type": "code",
      "metadata": {
        "colab": {
          "base_uri": "https://localhost:8080/"
        },
        "id": "PjRzLJEWnpoy",
        "outputId": "70d6d79a-69ef-49a9-ef19-7b0b512d1849"
      },
      "source": [
        "name = input(\"Your Name:\" )\r\n",
        "course = input(\"Course:\" )\r\n",
        "pg = float(input(\"Prelim Grade:\" ))\r\n",
        "mg = float(input(\"Midterm Grade:\" ))\r\n",
        "fg = float(input(\"Final Grade:\"))\r\n",
        "prelim = pg*.3\r\n",
        "midterm = mg*.3\r\n",
        "finals = fg*.4 \r\n",
        "sem_grade = prelim+midterm+finals\r\n",
        "sg = round(sem_grade,2)\r\n",
        "print(\"Hello {}, your semestral grade is: {}\".format(name, sg))\r\n",
        "if(sg>70):\r\n",
        "    print(\"\\U0001F600\")\r\n",
        "elif(sg<70):\r\n",
        "    print(\"\\U0001F619\")   \r\n",
        "else:\r\n",
        "    print(\"\\U0001F923\")"
      ],
      "execution_count": 1,
      "outputs": [
        {
          "output_type": "stream",
          "text": [
            "Your Name:a\n",
            "Course:asd\n",
            "Prelim Grade:1\n",
            "Midterm Grade:2\n",
            "Final Grade:3\n",
            "Hello a, your semestral grade is: 2.1\n",
            "😙\n"
          ],
          "name": "stdout"
        }
      ]
    }
  ]
}