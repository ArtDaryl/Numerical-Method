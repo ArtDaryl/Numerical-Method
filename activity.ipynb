{
  "nbformat": 4,
  "nbformat_minor": 0,
  "metadata": {
    "colab": {
      "name": "Untitled1.ipynb",
      "provenance": []
    },
    "kernelspec": {
      "name": "python3",
      "display_name": "Python 3"
    }
  },
  "cells": [
    {
      "cell_type": "code",
      "metadata": {
        "colab": {
          "base_uri": "https://localhost:8080/"
        },
        "id": "PjRzLJEWnpoy",
        "outputId": "8436e4df-2402-4862-f13f-d5a98acab22c"
      },
      "source": [
        "name = input(\"Your Name:\" )\r\n",
        "course = input(\"Course:\" )\r\n",
        "pg = float(input(\"Prelim Grade:\" ))\r\n",
        "mg = float(input(\"Midterm Grade:\" ))\r\n",
        "fg = float(input(\"Final Grade:\"))\r\n",
        "prelim = pg*.3\r\n",
        "midterm = mg*.3\r\n",
        "finals = fg*.4 \r\n",
        "sem_grade = prelim+midterm+finals\r\n",
        "sg = round(sem_grade,2)\r\n",
        "print(\"Hello {}, your semestral grade is: {}\".format(name, sg))\r\n",
        "if(sg>70):\r\n",
        "    print(\"\\U0001F600\")\r\n",
        "elif(sg<70):\r\n",
        "    print(\"\\U0001F619\")   \r\n",
        "else:\r\n",
        "    print(\"\\U0001F923\")"
      ],
      "execution_count": 2,
      "outputs": [
        {
          "output_type": "stream",
          "text": [
            "Your Name:art\n",
            "Course:CpE\n",
            "Prelim Grade:79\n",
            "Midterm Grade:84\n",
            "Final Grade:78\n",
            "Hello art, your semestral grade is: 80.1\n",
            "😀\n"
          ],
          "name": "stdout"
        }
      ]
    }
  ]
}