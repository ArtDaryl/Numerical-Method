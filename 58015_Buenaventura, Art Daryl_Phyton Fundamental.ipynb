{
  "nbformat": 4,
  "nbformat_minor": 0,
  "metadata": {
    "colab": {
      "name": "Untitled1.ipynb",
      "provenance": [],
      "include_colab_link": true
    },
    "kernelspec": {
      "name": "python3",
      "display_name": "Python 3"
    }
  },
  "cells": [
    {
      "cell_type": "markdown",
      "metadata": {
        "id": "view-in-github",
        "colab_type": "text"
      },
      "source": [
        "<a href=\"https://colab.research.google.com/github/ArtDaryl/Numerical-Method/blob/main/58015_Buenaventura%2C%20Art%20Daryl_Phyton%20Fundamental.ipynb\" target=\"_parent\"><img src=\"https://colab.research.google.com/assets/colab-badge.svg\" alt=\"Open In Colab\"/></a>"
      ]
    },
    {
      "cell_type": "markdown",
      "metadata": {
        "id": "9Wt99PNd5TXU"
      },
      "source": [
        "#Welcome to Phyton Fundamentals \r\n",
        "by Art Daryl Buenaventura © 2021\r\n",
        "\r\n",
        "For this activity, The task is to compute the semestral grade of a student and the result must be rounded to 2 decimals. \r\n",
        "\r\n",
        "The following function must be use: \r\n",
        "* Name \r\n",
        "* Course\r\n",
        "* Prelim Grade \r\n",
        "* Midterm Grade \r\n",
        "* Final Grade \r\n",
        "\r\n",
        "The Github Repository can be access here. [Link](https://github.com/ArtDaryl/Numerical-Method/blob/main/58015_Buenaventura%2C%20Art%20Daryl_Phyton_Fundamentals.ipynb)\r\n",
        "\r\n"
      ]
    },
    {
      "cell_type": "markdown",
      "metadata": {
        "id": "FEMMEqVN-EyI"
      },
      "source": [
        "#Activity"
      ]
    },
    {
      "cell_type": "markdown",
      "metadata": {
        "id": "v3kn4BMr-WZ0"
      },
      "source": [
        "Below is the code required to compute the semestral grade. You must put the correct formulas and data needed for this program. \r\n",
        "\r\n",
        "The program will ask you to put your name, course, prelim, midterm and final grade. After putting all the information needed, the program will automatically compute your semestral grade. \r\n",
        "\r\n",
        "Your semestral grade must be rounded into two decimals. \r\n",
        "\r\n",
        "The emoji that will show below your grade depends on the score you got."
      ]
    },
    {
      "cell_type": "code",
      "metadata": {
        "colab": {
          "base_uri": "https://localhost:8080/"
        },
        "id": "PjRzLJEWnpoy",
        "outputId": "8436e4df-2402-4862-f13f-d5a98acab22c"
      },
      "source": [
        "name = input(\"Your Name:\" )\r\n",
        "course = input(\"Course:\" )\r\n",
        "pg = float(input(\"Prelim Grade:\" ))\r\n",
        "mg = float(input(\"Midterm Grade:\" ))\r\n",
        "fg = float(input(\"Final Grade:\"))\r\n",
        "prelim = pg*.3\r\n",
        "midterm = mg*.3\r\n",
        "finals = fg*.4 \r\n",
        "sem_grade = prelim+midterm+finals\r\n",
        "sg = round(sem_grade,2)\r\n",
        "print(\"Hello {}, your semestral grade is: {}\".format(name, sg))\r\n",
        "if(sg>70):\r\n",
        "    print(\"\\U0001F600\")\r\n",
        "elif(sg<70):\r\n",
        "    print(\"\\U0001F619\")   \r\n",
        "else:\r\n",
        "    print(\"\\U0001F923\")"
      ],
      "execution_count": null,
      "outputs": [
        {
          "output_type": "stream",
          "text": [
            "Your Name:art\n",
            "Course:CpE\n",
            "Prelim Grade:79\n",
            "Midterm Grade:84\n",
            "Final Grade:78\n",
            "Hello art, your semestral grade is: 80.1\n",
            "😀\n"
          ],
          "name": "stdout"
        }
      ]
    }
  ]
}